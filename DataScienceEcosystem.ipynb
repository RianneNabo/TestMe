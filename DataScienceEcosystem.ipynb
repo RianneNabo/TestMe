{
 "cells": [
  {
   "cell_type": "code",
   "execution_count": 1,
   "id": "191df53d-a67c-4a8c-8773-4f73006ad8da",
   "metadata": {},
   "outputs": [
    {
     "name": "stdout",
     "output_type": "stream",
     "text": [
      "Hello World\n"
     ]
    }
   ],
   "source": [
    "print(\"Hello World\")\n",
    "\n"
   ]
  },
  {
   "cell_type": "markdown",
   "id": "c6a8461c-ba1a-4852-a942-a0a877216f21",
   "metadata": {},
   "source": [
    "# DataScienceEcosystem.ipynb\n"
   ]
  },
  {
   "cell_type": "markdown",
   "id": "d500541a-dfc6-4475-9920-b9c8f40d02cc",
   "metadata": {},
   "source": [
    "In this notebook, Data Science Tools and Ecosystem are summarized.\n",
    "\n"
   ]
  },
  {
   "cell_type": "markdown",
   "id": "494d8691-176c-4405-83de-cc33c8000700",
   "metadata": {},
   "source": [
    "Some of the popular languages that Data Scientists use are:\n",
    "1. C++\n",
    "2. Python\n",
    "3. R"
   ]
  },
  {
   "cell_type": "markdown",
   "id": "53aa0b0c-5a80-4098-9318-6f9ba36c8720",
   "metadata": {},
   "source": [
    "Some of the commonly used libraries used by Data Scientists include:\n",
    "1. Pandas\n",
    "2. Numpy\n",
    "3. Matplotlib\n",
    "4. Big DL\n",
    "5. Ggplot2"
   ]
  },
  {
   "cell_type": "markdown",
   "id": "d383b210-3994-4dad-959a-6ab576afc19b",
   "metadata": {},
   "source": [
    "| Data Science Tools|\n",
    "| ----------- | \n",
    "| Anaconda      |\n",
    "| R Studio  | \n",
    "| Spyder |\n",
    "| Zeppelin |\n"
   ]
  },
  {
   "cell_type": "markdown",
   "id": "9cd9ff6a-cd58-4591-8eae-e56086720116",
   "metadata": {},
   "source": [
    "Below are a few examples of evaluating arithmetic expressions in Python."
   ]
  },
  {
   "cell_type": "code",
   "execution_count": 4,
   "id": "cf35da64-5e1f-4f2c-a6df-d496a531546e",
   "metadata": {},
   "outputs": [
    {
     "data": {
      "text/plain": [
       "17"
      ]
     },
     "execution_count": 4,
     "metadata": {},
     "output_type": "execute_result"
    }
   ],
   "source": [
    "(3*4)+5"
   ]
  },
  {
   "cell_type": "code",
   "execution_count": 5,
   "id": "07c234fa-e447-4dfe-925b-7b3cb0b9dae4",
   "metadata": {},
   "outputs": [
    {
     "data": {
      "text/plain": [
       "3.3333333333333335"
      ]
     },
     "execution_count": 5,
     "metadata": {},
     "output_type": "execute_result"
    }
   ],
   "source": [
    "200/60"
   ]
  },
  {
   "cell_type": "markdown",
   "id": "c421897f-817a-4256-8b8b-b9d3d8a8e043",
   "metadata": {},
   "source": [
    "## Objectives\n"
   ]
  },
  {
   "cell_type": "markdown",
   "id": "bb5e0f86-0d24-4202-89dc-ec8691622510",
   "metadata": {},
   "source": [
    "1. Learn Python, Learn R Studio\n",
    "2. Complete Coursera Module 3\n",
    "3. Start EdX course"
   ]
  },
  {
   "cell_type": "markdown",
   "id": "ea85b1f4-5bf5-4846-bfb2-56cc98eddabe",
   "metadata": {},
   "source": [
    "## Rianne Nabo"
   ]
  },
  {
   "cell_type": "markdown",
   "id": "70ec71a4-bb8f-4bf6-8713-6a3731cf6be1",
   "metadata": {},
   "source": [
    "Author\n"
   ]
  },
  {
   "cell_type": "code",
   "execution_count": null,
   "id": "14c1be56-960d-4fd1-847c-586d9c4793d3",
   "metadata": {},
   "outputs": [],
   "source": []
  }
 ],
 "metadata": {
  "kernelspec": {
   "display_name": "Python 3 (ipykernel)",
   "language": "python",
   "name": "python3"
  },
  "language_info": {
   "codemirror_mode": {
    "name": "ipython",
    "version": 3
   },
   "file_extension": ".py",
   "mimetype": "text/x-python",
   "name": "python",
   "nbconvert_exporter": "python",
   "pygments_lexer": "ipython3",
   "version": "3.13.2"
  }
 },
 "nbformat": 4,
 "nbformat_minor": 5
}
